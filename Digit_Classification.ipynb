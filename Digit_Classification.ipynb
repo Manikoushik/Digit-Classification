{
  "nbformat": 4,
  "nbformat_minor": 0,
  "metadata": {
    "colab": {
      "name": "Digit Classification.ipynb",
      "provenance": []
    },
    "kernelspec": {
      "name": "python3",
      "display_name": "Python 3"
    },
    "language_info": {
      "name": "python"
    }
  },
  "cells": [
    {
      "cell_type": "code",
      "metadata": {
        "id": "mA2GUKG1lA9D"
      },
      "source": [
        "#import the libraries\n",
        "from keras.models import Sequential\n",
        "from keras.layers import Conv2D, Dense, Flatten\n",
        "from keras.datasets import mnist\n",
        "from tensorflow.keras.utils import to_categorical\n",
        "import matplotlib.pyplot as plt\n",
        "import numpy as np"
      ],
      "execution_count": 35,
      "outputs": []
    },
    {
      "cell_type": "code",
      "metadata": {
        "id": "l315hJ19sANg"
      },
      "source": [
        "#Load the data and split into test set and train set\n",
        "(X_train,y_train),(X_test,y_test)=mnist.load_data()"
      ],
      "execution_count": 36,
      "outputs": []
    },
    {
      "cell_type": "code",
      "metadata": {
        "colab": {
          "base_uri": "https://localhost:8080/"
        },
        "id": "oChM5bkesdII",
        "outputId": "ff430876-09b9-4ba4-e1c7-7dcaf39b6ea0"
      },
      "source": [
        "#get the image shape\n",
        "print(X_train.shape)\n",
        "print(X_test.shape)"
      ],
      "execution_count": 37,
      "outputs": [
        {
          "output_type": "stream",
          "text": [
            "(60000, 28, 28)\n",
            "(10000, 28, 28)\n"
          ],
          "name": "stdout"
        }
      ]
    },
    {
      "cell_type": "code",
      "metadata": {
        "colab": {
          "base_uri": "https://localhost:8080/",
          "height": 282
        },
        "id": "AoZIO5MHszcA",
        "outputId": "3271b354-b95c-4729-c5d5-6b4800dcd83d"
      },
      "source": [
        "#print image\n",
        "plt.imshow(X_test[1])"
      ],
      "execution_count": 38,
      "outputs": [
        {
          "output_type": "execute_result",
          "data": {
            "text/plain": [
              "<matplotlib.image.AxesImage at 0x7f8ac53a0ad0>"
            ]
          },
          "metadata": {
            "tags": []
          },
          "execution_count": 38
        },
        {
          "output_type": "display_data",
          "data": {
            "image/png": "[encoded data removed]",
            "text/plain": [
              "<Figure size 432x288 with 1 Axes>"
            ]
          },
          "metadata": {
            "tags": [],
            "needs_background": "light"
          }
        }
      ]
    },
    {
      "cell_type": "code",
      "metadata": {
        "id": "MPi9n6ZytAmF"
      },
      "source": [
        "#reshape the data to fit the model\n",
        "X_train = X_train.reshape(60000,28,28,1)\n",
        "X_test = X_test.reshape(10000,28,28,1)"
      ],
      "execution_count": 39,
      "outputs": []
    },
    {
      "cell_type": "code",
      "metadata": {
        "id": "JN6geaMxtohA"
      },
      "source": [
        "#one-hot encoding\n",
        "y_train_one_hot = to_categorical(y_train)\n",
        "y_test_one_hot = to_categorical(y_test)"
      ],
      "execution_count": 40,
      "outputs": []
    },
    {
      "cell_type": "code",
      "metadata": {
        "colab": {
          "base_uri": "https://localhost:8080/"
        },
        "id": "F_2A-HlZvCM1",
        "outputId": "4ae66b7b-8190-4a79-c295-8f28c71285b3"
      },
      "source": [
        "#print the new label\n",
        "print(y_train_one_hot[1])"
      ],
      "execution_count": 41,
      "outputs": [
        {
          "output_type": "stream",
          "text": [
            "[1. 0. 0. 0. 0. 0. 0. 0. 0. 0.]\n"
          ],
          "name": "stdout"
        }
      ]
    },
    {
      "cell_type": "code",
      "metadata": {
        "id": "Ky_c9em2vPUR"
      },
      "source": [
        "#build the CNN model\n",
        "model = Sequential()\n",
        "model.add(Conv2D(64,kernel_size=3,activation= \"relu\",input_shape = (28,28,1)))\n",
        "model.add(Conv2D(32,kernel_size=3,activation='relu'))\n",
        "model.add(Flatten())\n",
        "model.add(Dense(10,activation='softmax'))"
      ],
      "execution_count": 42,
      "outputs": []
    },
    {
      "cell_type": "code",
      "metadata": {
        "id": "w1gTyKCFwZ2x"
      },
      "source": [
        "#compile the model\n",
        "model.compile(optimizer = 'adam',loss='categorical_crossentropy',metrics=['accuracy'])\n"
      ],
      "execution_count": 43,
      "outputs": []
    },
    {
      "cell_type": "code",
      "metadata": {
        "colab": {
          "base_uri": "https://localhost:8080/"
        },
        "id": "BHdt5t-86BNA",
        "outputId": "a118da1b-dd60-4b78-eed6-306a3c7584e5"
      },
      "source": [
        "#train the model\n",
        "hist = model.fit(X_train,y_train_one_hot, validation_data =(X_test,y_test_one_hot),epochs=3)"
      ],
      "execution_count": 44,
      "outputs": [
        {
          "output_type": "stream",
          "text": [
            "Epoch 1/3\n",
            "1875/1875 [==============================] - 176s 87ms/step - loss: 0.6366 - accuracy: 0.9116 - val_loss: 0.0937 - val_accuracy: 0.9713\n",
            "Epoch 2/3\n",
            "1875/1875 [==============================] - 158s 84ms/step - loss: 0.0691 - accuracy: 0.9785 - val_loss: 0.0759 - val_accuracy: 0.9766\n",
            "Epoch 3/3\n",
            "1875/1875 [==============================] - 157s 84ms/step - loss: 0.0386 - accuracy: 0.9873 - val_loss: 0.1114 - val_accuracy: 0.9694\n"
          ],
          "name": "stdout"
        }
      ]
    },
    {
      "cell_type": "code",
      "metadata": {
        "colab": {
          "base_uri": "https://localhost:8080/",
          "height": 295
        },
        "id": "7QRk17FA6fOq",
        "outputId": "06c53f0f-8c54-4de1-f3c2-8a910fbac1e3"
      },
      "source": [
        "#visualize the model accuracy\n",
        "plt.plot(hist.history['accuracy'])\n",
        "plt.plot(hist.history['val_accuracy'])\n",
        "plt.xlabel('Accuracy')\n",
        "plt.ylabel('Epochs')\n",
        "plt.title('Model Accuracy')\n",
        "plt.show()"
      ],
      "execution_count": 46,
      "outputs": [
        {
          "output_type": "display_data",
          "data": {
            "image/png": "[encoded data removed]",
            "text/plain": [
              "<Figure size 432x288 with 1 Axes>"
            ]
          },
          "metadata": {
            "tags": [],
            "needs_background": "light"
          }
        }
      ]
    },
    {
      "cell_type": "code",
      "metadata": {
        "colab": {
          "base_uri": "https://localhost:8080/"
        },
        "id": "JYNHl_Od-Hg1",
        "outputId": "d8ed9ab9-3fd4-46d2-8994-c813a5ae9404"
      },
      "source": [
        "#Show the predictions as probabilities for any four images in the test set\n",
        "predictions=model.predict(X_test[2:6])\n",
        "predictions "
      ],
      "execution_count": 56,
      "outputs": [
        {
          "output_type": "execute_result",
          "data": {
            "text/plain": [
              "array([[3.1097203e-02, 9.6142071e-01, 3.2273934e-03, 4.1448665e-08,\n",
              "        2.4818336e-03, 4.1406911e-06, 1.4446452e-03, 8.5414705e-08,\n",
              "        3.2256241e-04, 1.3984758e-06],\n",
              "       [9.9999607e-01, 4.5087371e-12, 1.3457930e-06, 1.7652669e-08,\n",
              "        4.6700124e-09, 1.0075886e-09, 1.9136517e-06, 1.8634309e-11,\n",
              "        3.1049707e-09, 7.0597372e-07],\n",
              "       [7.1475229e-16, 2.4930930e-16, 7.2985983e-15, 2.7235988e-13,\n",
              "        1.0000000e+00, 4.5846122e-14, 1.1587332e-15, 1.8418591e-14,\n",
              "        1.0117264e-14, 8.4680494e-13],\n",
              "       [1.8743040e-04, 9.9951446e-01, 1.3066670e-04, 2.5331241e-08,\n",
              "        1.3000406e-04, 4.0120323e-08, 3.3876684e-06, 7.9397915e-07,\n",
              "        3.3195814e-05, 3.7686828e-08]], dtype=float32)"
            ]
          },
          "metadata": {
            "tags": []
          },
          "execution_count": 56
        }
      ]
    },
    {
      "cell_type": "code",
      "metadata": {
        "colab": {
          "base_uri": "https://localhost:8080/"
        },
        "id": "5uQ5pLfY-nxW",
        "outputId": "ea76b9a2-89d7-4f4c-81ca-ab3dfaebc2b6"
      },
      "source": [
        "#print out the predictions as numbers for any 4 numbers\n",
        "print(np.argmax(predictions,axis=1))"
      ],
      "execution_count": 57,
      "outputs": [
        {
          "output_type": "stream",
          "text": [
            "[1 0 4 1]\n"
          ],
          "name": "stdout"
        }
      ]
    },
    {
      "cell_type": "code",
      "metadata": {
        "colab": {
          "base_uri": "https://localhost:8080/"
        },
        "id": "meCkm0uK_S8F",
        "outputId": "3b1c1bb9-2998-41fe-8ff7-c7b38730bdf7"
      },
      "source": [
        "#print out the actual labels\n",
        "print(y_test[2:6])"
      ],
      "execution_count": 65,
      "outputs": [
        {
          "output_type": "stream",
          "text": [
            "[1 0 4 1]\n"
          ],
          "name": "stdout"
        }
      ]
    },
    {
      "cell_type": "code",
      "metadata": {
        "colab": {
          "base_uri": "https://localhost:8080/",
          "height": 1000
        },
        "id": "ITAXxJhz_48C",
        "outputId": "f9c6d1a7-5124-4209-ba21-51555547a91c"
      },
      "source": [
        "#Show the above four numbers as pictures\n",
        "for i in range(2,6):\n",
        "  image=X_test[i]\n",
        "  image=np.array(image,dtype='float')\n",
        "  pixels = image.reshape((28,28))\n",
        "  plt.imshow(pixels,cmap='gray')\n",
        "  plt.show()"
      ],
      "execution_count": 67,
      "outputs": [
        {
          "output_type": "display_data",
          "data": {
            "image/png": "[encoded data removed]",
            "text/plain": [
              "<Figure size 432x288 with 1 Axes>"
            ]
          },
          "metadata": {
            "tags": [],
            "needs_background": "light"
          }
        },
        {
          "output_type": "display_data",
          "data": {
            "image/png": "[encoded data removed]",
            "text/plain": [
              "<Figure size 432x288 with 1 Axes>"
            ]
          },
          "metadata": {
            "tags": [],
            "needs_background": "light"
          }
        },
        {
          "output_type": "display_data",
          "data": {
            "image/png": "[encoded data removed]",
            "text/plain": [
              "<Figure size 432x288 with 1 Axes>"
            ]
          },
          "metadata": {
            "tags": [],
            "needs_background": "light"
          }
        },
        {
          "output_type": "display_data",
          "data": {
            "image/png": "[encoded data removed]",
            "text/plain": [
              "<Figure size 432x288 with 1 Axes>"
            ]
          },
          "metadata": {
            "tags": [],
            "needs_background": "light"
          }
        }
      ]
    },
    {
      "cell_type": "code",
      "metadata": {
        "id": "HYq5i-IzAjGq"
      },
      "source": [
        ""
      ],
      "execution_count": null,
      "outputs": []
    }
  ]
}